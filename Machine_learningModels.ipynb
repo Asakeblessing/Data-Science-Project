{
  "nbformat": 4,
  "nbformat_minor": 0,
  "metadata": {
    "colab": {
      "provenance": [],
      "include_colab_link": true
    },
    "kernelspec": {
      "name": "python3",
      "display_name": "Python 3"
    },
    "language_info": {
      "name": "python"
    }
  },
  "cells": [
    {
      "cell_type": "markdown",
      "metadata": {
        "id": "view-in-github",
        "colab_type": "text"
      },
      "source": [
        "<a href=\"https://colab.research.google.com/github/Asakeblessing/Data-Science-Project/blob/main/Machine_learningModels.ipynb\" target=\"_parent\"><img src=\"https://colab.research.google.com/assets/colab-badge.svg\" alt=\"Open In Colab\"/></a>"
      ]
    },
    {
      "cell_type": "markdown",
      "source": [
        "Data PreProcessing"
      ],
      "metadata": {
        "id": "jyPe28ewSaun"
      }
    },
    {
      "cell_type": "code",
      "source": [
        "# Libraries Import\n",
        "\n",
        "import pandas as pd\n",
        "import numpy as np\n",
        "from sklearn.preprocessing import MinMaxScaler\n",
        "import matplotlib.pyplot as plt\n",
        "import seaborn as sns\n"
      ],
      "metadata": {
        "id": "1-yqp1fmlhmi"
      },
      "execution_count": null,
      "outputs": []
    },
    {
      "cell_type": "code",
      "execution_count": null,
      "metadata": {
        "colab": {
          "base_uri": "https://localhost:8080/"
        },
        "id": "aD4sDYR0SWJl",
        "outputId": "2ce554b8-9f57-465e-96da-2d1a088dfbed"
      },
      "outputs": [
        {
          "output_type": "stream",
          "name": "stdout",
          "text": [
            "Requirement already satisfied: pandas in /usr/local/lib/python3.12/dist-packages (2.2.2)\n",
            "Requirement already satisfied: numpy in /usr/local/lib/python3.12/dist-packages (2.0.2)\n",
            "Requirement already satisfied: scikit-learn in /usr/local/lib/python3.12/dist-packages (1.6.1)\n",
            "Requirement already satisfied: matplotlib in /usr/local/lib/python3.12/dist-packages (3.10.0)\n",
            "Requirement already satisfied: seaborn in /usr/local/lib/python3.12/dist-packages (0.13.2)\n",
            "Requirement already satisfied: python-dateutil>=2.8.2 in /usr/local/lib/python3.12/dist-packages (from pandas) (2.9.0.post0)\n",
            "Requirement already satisfied: pytz>=2020.1 in /usr/local/lib/python3.12/dist-packages (from pandas) (2025.2)\n",
            "Requirement already satisfied: tzdata>=2022.7 in /usr/local/lib/python3.12/dist-packages (from pandas) (2025.2)\n",
            "Requirement already satisfied: scipy>=1.6.0 in /usr/local/lib/python3.12/dist-packages (from scikit-learn) (1.16.1)\n",
            "Requirement already satisfied: joblib>=1.2.0 in /usr/local/lib/python3.12/dist-packages (from scikit-learn) (1.5.1)\n",
            "Requirement already satisfied: threadpoolctl>=3.1.0 in /usr/local/lib/python3.12/dist-packages (from scikit-learn) (3.6.0)\n",
            "Requirement already satisfied: contourpy>=1.0.1 in /usr/local/lib/python3.12/dist-packages (from matplotlib) (1.3.3)\n",
            "Requirement already satisfied: cycler>=0.10 in /usr/local/lib/python3.12/dist-packages (from matplotlib) (0.12.1)\n",
            "Requirement already satisfied: fonttools>=4.22.0 in /usr/local/lib/python3.12/dist-packages (from matplotlib) (4.59.1)\n",
            "Requirement already satisfied: kiwisolver>=1.3.1 in /usr/local/lib/python3.12/dist-packages (from matplotlib) (1.4.9)\n",
            "Requirement already satisfied: packaging>=20.0 in /usr/local/lib/python3.12/dist-packages (from matplotlib) (25.0)\n",
            "Requirement already satisfied: pillow>=8 in /usr/local/lib/python3.12/dist-packages (from matplotlib) (11.3.0)\n",
            "Requirement already satisfied: pyparsing>=2.3.1 in /usr/local/lib/python3.12/dist-packages (from matplotlib) (3.2.3)\n",
            "Requirement already satisfied: six>=1.5 in /usr/local/lib/python3.12/dist-packages (from python-dateutil>=2.8.2->pandas) (1.17.0)\n"
          ]
        }
      ],
      "source": [
        "#Install Packages\n",
        "\n",
        "!pip install pandas numpy scikit-learn matplotlib seaborn\n"
      ]
    },
    {
      "cell_type": "markdown",
      "source": [
        "Machine Learning Pipepline Using All 3 KPIs for Performance Class/ Independent Of Topsis"
      ],
      "metadata": {
        "id": "HjU9EqBChnVp"
      }
    },
    {
      "cell_type": "code",
      "source": [
        "# Create DataFrame for ML\n",
        "kpi_df = df[['Supplier', 'Cost_Savings', 'Delivery_Duration', 'Defect_Rate_Percent']].copy()\n"
      ],
      "metadata": {
        "id": "_Tr1xnGwu5Z4"
      },
      "execution_count": null,
      "outputs": []
    },
    {
      "cell_type": "code",
      "source": [
        "# Drop rows with missing or invalid KPI values\n",
        "kpi_df.dropna(subset=['Cost_Savings', 'Delivery_Duration', 'Defect_Rate_Percent'], inplace=True)\n"
      ],
      "metadata": {
        "id": "_zE_7qr2vQyV"
      },
      "execution_count": null,
      "outputs": []
    },
    {
      "cell_type": "markdown",
      "source": [
        "Binary Performance label using all 3 KPIs Cost_Savings,Delivery_Duration and Defect_Rate_Percent"
      ],
      "metadata": {
        "id": "4ihDNc4orOj2"
      }
    },
    {
      "cell_type": "code",
      "source": [
        "# Define binary performance label\n",
        "def classify_binary(row):\n",
        "    return 1 if (\n",
        "        row['Cost_Savings'] > 3500 and\n",
        "        row['Delivery_Duration'] < 8 and\n",
        "        row['Defect_Rate_Percent'] < 7\n",
        "    ) else 0\n",
        "\n",
        "# Apply it\n",
        "kpi_df['Performance_Binary'] = kpi_df.apply(classify_binary, axis=1)\n"
      ],
      "metadata": {
        "id": "8-qCTgNO44Dt"
      },
      "execution_count": null,
      "outputs": []
    },
    {
      "cell_type": "code",
      "source": [
        "print(kpi_df.columns)"
      ],
      "metadata": {
        "colab": {
          "base_uri": "https://localhost:8080/"
        },
        "id": "5V-b4FRTNnd1",
        "outputId": "38bfd3b6-3e37-4a5c-c6c4-8d867c84fd44"
      },
      "execution_count": null,
      "outputs": [
        {
          "output_type": "stream",
          "name": "stdout",
          "text": [
            "Index(['Supplier', 'Cost_Savings', 'Delivery_Duration', 'Defect_Rate_Percent',\n",
            "       'Performance_Binary'],\n",
            "      dtype='object')\n"
          ]
        }
      ]
    },
    {
      "cell_type": "code",
      "source": [
        "kpi_df[['Cost_Savings', 'Delivery_Duration', 'Defect_Rate_Percent', 'Performance_Binary']].head()\n"
      ],
      "metadata": {
        "colab": {
          "base_uri": "https://localhost:8080/",
          "height": 206
        },
        "id": "qrUCL1Uj5oMy",
        "outputId": "2d09e615-6411-4ad5-9e1a-ba8edccc3df7"
      },
      "execution_count": null,
      "outputs": [
        {
          "output_type": "execute_result",
          "data": {
            "text/plain": [
              "   Cost_Savings  Delivery_Duration  Defect_Rate_Percent  Performance_Binary\n",
              "0       2728.32                  8             6.360836                   0\n",
              "1       2987.82                 10            15.573227                   0\n",
              "2       2957.50                 20             4.505495                   0\n",
              "3       5819.52                 19             8.333333                   0\n",
              "4       4177.20                 12            14.491525                   0"
            ],
            "text/html": [
              "\n",
              "  <div id=\"df-c81d3537-35ba-4523-89c4-37f20c3875ac\" class=\"colab-df-container\">\n",
              "    <div>\n",
              "<style scoped>\n",
              "    .dataframe tbody tr th:only-of-type {\n",
              "        vertical-align: middle;\n",
              "    }\n",
              "\n",
              "    .dataframe tbody tr th {\n",
              "        vertical-align: top;\n",
              "    }\n",
              "\n",
              "    .dataframe thead th {\n",
              "        text-align: right;\n",
              "    }\n",
              "</style>\n",
              "<table border=\"1\" class=\"dataframe\">\n",
              "  <thead>\n",
              "    <tr style=\"text-align: right;\">\n",
              "      <th></th>\n",
              "      <th>Cost_Savings</th>\n",
              "      <th>Delivery_Duration</th>\n",
              "      <th>Defect_Rate_Percent</th>\n",
              "      <th>Performance_Binary</th>\n",
              "    </tr>\n",
              "  </thead>\n",
              "  <tbody>\n",
              "    <tr>\n",
              "      <th>0</th>\n",
              "      <td>2728.32</td>\n",
              "      <td>8</td>\n",
              "      <td>6.360836</td>\n",
              "      <td>0</td>\n",
              "    </tr>\n",
              "    <tr>\n",
              "      <th>1</th>\n",
              "      <td>2987.82</td>\n",
              "      <td>10</td>\n",
              "      <td>15.573227</td>\n",
              "      <td>0</td>\n",
              "    </tr>\n",
              "    <tr>\n",
              "      <th>2</th>\n",
              "      <td>2957.50</td>\n",
              "      <td>20</td>\n",
              "      <td>4.505495</td>\n",
              "      <td>0</td>\n",
              "    </tr>\n",
              "    <tr>\n",
              "      <th>3</th>\n",
              "      <td>5819.52</td>\n",
              "      <td>19</td>\n",
              "      <td>8.333333</td>\n",
              "      <td>0</td>\n",
              "    </tr>\n",
              "    <tr>\n",
              "      <th>4</th>\n",
              "      <td>4177.20</td>\n",
              "      <td>12</td>\n",
              "      <td>14.491525</td>\n",
              "      <td>0</td>\n",
              "    </tr>\n",
              "  </tbody>\n",
              "</table>\n",
              "</div>\n",
              "    <div class=\"colab-df-buttons\">\n",
              "\n",
              "  <div class=\"colab-df-container\">\n",
              "    <button class=\"colab-df-convert\" onclick=\"convertToInteractive('df-c81d3537-35ba-4523-89c4-37f20c3875ac')\"\n",
              "            title=\"Convert this dataframe to an interactive table.\"\n",
              "            style=\"display:none;\">\n",
              "\n",
              "  <svg xmlns=\"http://www.w3.org/2000/svg\" height=\"24px\" viewBox=\"0 -960 960 960\">\n",
              "    <path d=\"M120-120v-720h720v720H120Zm60-500h600v-160H180v160Zm220 220h160v-160H400v160Zm0 220h160v-160H400v160ZM180-400h160v-160H180v160Zm440 0h160v-160H620v160ZM180-180h160v-160H180v160Zm440 0h160v-160H620v160Z\"/>\n",
              "  </svg>\n",
              "    </button>\n",
              "\n",
              "  <style>\n",
              "    .colab-df-container {\n",
              "      display:flex;\n",
              "      gap: 12px;\n",
              "    }\n",
              "\n",
              "    .colab-df-convert {\n",
              "      background-color: #E8F0FE;\n",
              "      border: none;\n",
              "      border-radius: 50%;\n",
              "      cursor: pointer;\n",
              "      display: none;\n",
              "      fill: #1967D2;\n",
              "      height: 32px;\n",
              "      padding: 0 0 0 0;\n",
              "      width: 32px;\n",
              "    }\n",
              "\n",
              "    .colab-df-convert:hover {\n",
              "      background-color: #E2EBFA;\n",
              "      box-shadow: 0px 1px 2px rgba(60, 64, 67, 0.3), 0px 1px 3px 1px rgba(60, 64, 67, 0.15);\n",
              "      fill: #174EA6;\n",
              "    }\n",
              "\n",
              "    .colab-df-buttons div {\n",
              "      margin-bottom: 4px;\n",
              "    }\n",
              "\n",
              "    [theme=dark] .colab-df-convert {\n",
              "      background-color: #3B4455;\n",
              "      fill: #D2E3FC;\n",
              "    }\n",
              "\n",
              "    [theme=dark] .colab-df-convert:hover {\n",
              "      background-color: #434B5C;\n",
              "      box-shadow: 0px 1px 3px 1px rgba(0, 0, 0, 0.15);\n",
              "      filter: drop-shadow(0px 1px 2px rgba(0, 0, 0, 0.3));\n",
              "      fill: #FFFFFF;\n",
              "    }\n",
              "  </style>\n",
              "\n",
              "    <script>\n",
              "      const buttonEl =\n",
              "        document.querySelector('#df-c81d3537-35ba-4523-89c4-37f20c3875ac button.colab-df-convert');\n",
              "      buttonEl.style.display =\n",
              "        google.colab.kernel.accessAllowed ? 'block' : 'none';\n",
              "\n",
              "      async function convertToInteractive(key) {\n",
              "        const element = document.querySelector('#df-c81d3537-35ba-4523-89c4-37f20c3875ac');\n",
              "        const dataTable =\n",
              "          await google.colab.kernel.invokeFunction('convertToInteractive',\n",
              "                                                    [key], {});\n",
              "        if (!dataTable) return;\n",
              "\n",
              "        const docLinkHtml = 'Like what you see? Visit the ' +\n",
              "          '<a target=\"_blank\" href=https://colab.research.google.com/notebooks/data_table.ipynb>data table notebook</a>'\n",
              "          + ' to learn more about interactive tables.';\n",
              "        element.innerHTML = '';\n",
              "        dataTable['output_type'] = 'display_data';\n",
              "        await google.colab.output.renderOutput(dataTable, element);\n",
              "        const docLink = document.createElement('div');\n",
              "        docLink.innerHTML = docLinkHtml;\n",
              "        element.appendChild(docLink);\n",
              "      }\n",
              "    </script>\n",
              "  </div>\n",
              "\n",
              "\n",
              "    <div id=\"df-26a46bd3-86d3-42d6-b210-9d1fa051b668\">\n",
              "      <button class=\"colab-df-quickchart\" onclick=\"quickchart('df-26a46bd3-86d3-42d6-b210-9d1fa051b668')\"\n",
              "                title=\"Suggest charts\"\n",
              "                style=\"display:none;\">\n",
              "\n",
              "<svg xmlns=\"http://www.w3.org/2000/svg\" height=\"24px\"viewBox=\"0 0 24 24\"\n",
              "     width=\"24px\">\n",
              "    <g>\n",
              "        <path d=\"M19 3H5c-1.1 0-2 .9-2 2v14c0 1.1.9 2 2 2h14c1.1 0 2-.9 2-2V5c0-1.1-.9-2-2-2zM9 17H7v-7h2v7zm4 0h-2V7h2v10zm4 0h-2v-4h2v4z\"/>\n",
              "    </g>\n",
              "</svg>\n",
              "      </button>\n",
              "\n",
              "<style>\n",
              "  .colab-df-quickchart {\n",
              "      --bg-color: #E8F0FE;\n",
              "      --fill-color: #1967D2;\n",
              "      --hover-bg-color: #E2EBFA;\n",
              "      --hover-fill-color: #174EA6;\n",
              "      --disabled-fill-color: #AAA;\n",
              "      --disabled-bg-color: #DDD;\n",
              "  }\n",
              "\n",
              "  [theme=dark] .colab-df-quickchart {\n",
              "      --bg-color: #3B4455;\n",
              "      --fill-color: #D2E3FC;\n",
              "      --hover-bg-color: #434B5C;\n",
              "      --hover-fill-color: #FFFFFF;\n",
              "      --disabled-bg-color: #3B4455;\n",
              "      --disabled-fill-color: #666;\n",
              "  }\n",
              "\n",
              "  .colab-df-quickchart {\n",
              "    background-color: var(--bg-color);\n",
              "    border: none;\n",
              "    border-radius: 50%;\n",
              "    cursor: pointer;\n",
              "    display: none;\n",
              "    fill: var(--fill-color);\n",
              "    height: 32px;\n",
              "    padding: 0;\n",
              "    width: 32px;\n",
              "  }\n",
              "\n",
              "  .colab-df-quickchart:hover {\n",
              "    background-color: var(--hover-bg-color);\n",
              "    box-shadow: 0 1px 2px rgba(60, 64, 67, 0.3), 0 1px 3px 1px rgba(60, 64, 67, 0.15);\n",
              "    fill: var(--button-hover-fill-color);\n",
              "  }\n",
              "\n",
              "  .colab-df-quickchart-complete:disabled,\n",
              "  .colab-df-quickchart-complete:disabled:hover {\n",
              "    background-color: var(--disabled-bg-color);\n",
              "    fill: var(--disabled-fill-color);\n",
              "    box-shadow: none;\n",
              "  }\n",
              "\n",
              "  .colab-df-spinner {\n",
              "    border: 2px solid var(--fill-color);\n",
              "    border-color: transparent;\n",
              "    border-bottom-color: var(--fill-color);\n",
              "    animation:\n",
              "      spin 1s steps(1) infinite;\n",
              "  }\n",
              "\n",
              "  @keyframes spin {\n",
              "    0% {\n",
              "      border-color: transparent;\n",
              "      border-bottom-color: var(--fill-color);\n",
              "      border-left-color: var(--fill-color);\n",
              "    }\n",
              "    20% {\n",
              "      border-color: transparent;\n",
              "      border-left-color: var(--fill-color);\n",
              "      border-top-color: var(--fill-color);\n",
              "    }\n",
              "    30% {\n",
              "      border-color: transparent;\n",
              "      border-left-color: var(--fill-color);\n",
              "      border-top-color: var(--fill-color);\n",
              "      border-right-color: var(--fill-color);\n",
              "    }\n",
              "    40% {\n",
              "      border-color: transparent;\n",
              "      border-right-color: var(--fill-color);\n",
              "      border-top-color: var(--fill-color);\n",
              "    }\n",
              "    60% {\n",
              "      border-color: transparent;\n",
              "      border-right-color: var(--fill-color);\n",
              "    }\n",
              "    80% {\n",
              "      border-color: transparent;\n",
              "      border-right-color: var(--fill-color);\n",
              "      border-bottom-color: var(--fill-color);\n",
              "    }\n",
              "    90% {\n",
              "      border-color: transparent;\n",
              "      border-bottom-color: var(--fill-color);\n",
              "    }\n",
              "  }\n",
              "</style>\n",
              "\n",
              "      <script>\n",
              "        async function quickchart(key) {\n",
              "          const quickchartButtonEl =\n",
              "            document.querySelector('#' + key + ' button');\n",
              "          quickchartButtonEl.disabled = true;  // To prevent multiple clicks.\n",
              "          quickchartButtonEl.classList.add('colab-df-spinner');\n",
              "          try {\n",
              "            const charts = await google.colab.kernel.invokeFunction(\n",
              "                'suggestCharts', [key], {});\n",
              "          } catch (error) {\n",
              "            console.error('Error during call to suggestCharts:', error);\n",
              "          }\n",
              "          quickchartButtonEl.classList.remove('colab-df-spinner');\n",
              "          quickchartButtonEl.classList.add('colab-df-quickchart-complete');\n",
              "        }\n",
              "        (() => {\n",
              "          let quickchartButtonEl =\n",
              "            document.querySelector('#df-26a46bd3-86d3-42d6-b210-9d1fa051b668 button');\n",
              "          quickchartButtonEl.style.display =\n",
              "            google.colab.kernel.accessAllowed ? 'block' : 'none';\n",
              "        })();\n",
              "      </script>\n",
              "    </div>\n",
              "\n",
              "    </div>\n",
              "  </div>\n"
            ],
            "application/vnd.google.colaboratory.intrinsic+json": {
              "type": "dataframe",
              "summary": "{\n  \"name\": \"kpi_df[['Cost_Savings', 'Delivery_Duration', 'Defect_Rate_Percent', 'Performance_Binary']]\",\n  \"rows\": 5,\n  \"fields\": [\n    {\n      \"column\": \"Cost_Savings\",\n      \"properties\": {\n        \"dtype\": \"number\",\n        \"std\": 1295.8538680422255,\n        \"min\": 2728.32,\n        \"max\": 5819.519999999998,\n        \"num_unique_values\": 5,\n        \"samples\": [\n          2987.819999999995,\n          4177.199999999991,\n          2957.5\n        ],\n        \"semantic_type\": \"\",\n        \"description\": \"\"\n      }\n    },\n    {\n      \"column\": \"Delivery_Duration\",\n      \"properties\": {\n        \"dtype\": \"number\",\n        \"std\": 5,\n        \"min\": 8,\n        \"max\": 20,\n        \"num_unique_values\": 5,\n        \"samples\": [\n          10,\n          12,\n          20\n        ],\n        \"semantic_type\": \"\",\n        \"description\": \"\"\n      }\n    },\n    {\n      \"column\": \"Defect_Rate_Percent\",\n      \"properties\": {\n        \"dtype\": \"number\",\n        \"std\": 4.9329841163231665,\n        \"min\": 4.5054945054945055,\n        \"max\": 15.573227302849569,\n        \"num_unique_values\": 5,\n        \"samples\": [\n          15.573227302849569,\n          14.491525423728813,\n          4.5054945054945055\n        ],\n        \"semantic_type\": \"\",\n        \"description\": \"\"\n      }\n    },\n    {\n      \"column\": \"Performance_Binary\",\n      \"properties\": {\n        \"dtype\": \"number\",\n        \"std\": 0,\n        \"min\": 0,\n        \"max\": 0,\n        \"num_unique_values\": 1,\n        \"samples\": [\n          0\n        ],\n        \"semantic_type\": \"\",\n        \"description\": \"\"\n      }\n    }\n  ]\n}"
            }
          },
          "metadata": {},
          "execution_count": 25
        }
      ]
    },
    {
      "cell_type": "markdown",
      "source": [
        "Features and Binary Labels"
      ],
      "metadata": {
        "id": "ADERwdw7-zXw"
      }
    },
    {
      "cell_type": "code",
      "source": [
        "X = kpi_df[['Cost_Savings', 'Delivery_Duration', 'Defect_Rate_Percent']]\n",
        "y = kpi_df['Performance_Binary']"
      ],
      "metadata": {
        "id": "J8USBQk4-yMl"
      },
      "execution_count": null,
      "outputs": []
    },
    {
      "cell_type": "markdown",
      "source": [
        "Train/Test Split"
      ],
      "metadata": {
        "id": "z9rQkbxN7T9L"
      }
    },
    {
      "cell_type": "code",
      "source": [
        "from sklearn.model_selection import train_test_split\n",
        "\n",
        "X_train, X_test, y_train, y_test = train_test_split(\n",
        "    X, y, test_size=0.2, stratify=y, random_state=42\n",
        ")\n"
      ],
      "metadata": {
        "id": "7shjGQTs_GVu"
      },
      "execution_count": null,
      "outputs": []
    },
    {
      "cell_type": "markdown",
      "source": [
        "Define Regularized Models With Class Balancing"
      ],
      "metadata": {
        "id": "0qe1UcjWDRLR"
      }
    },
    {
      "cell_type": "code",
      "source": [
        "from sklearn.linear_model import LogisticRegression\n",
        "from sklearn.ensemble import RandomForestClassifier\n",
        "from xgboost import XGBClassifier\n",
        "from collections import Counter\n",
        "\n",
        "# Calculate ratio for XGBoost class weight\n",
        "class_counts = Counter(y)\n",
        "scale_ratio = class_counts[0] / class_counts[1]\n"
      ],
      "metadata": {
        "id": "nZOZ_FooDaQA"
      },
      "execution_count": null,
      "outputs": []
    },
    {
      "cell_type": "markdown",
      "source": [
        "ML Model Training with Regularization and Class Weights"
      ],
      "metadata": {
        "id": "cHKbSobGs45z"
      }
    },
    {
      "cell_type": "code",
      "source": [
        "logistic_model = LogisticRegression(\n",
        "    class_weight='balanced',\n",
        "    C=0.05,  # Stronger regularization\n",
        "    penalty='l2',\n",
        "    solver='liblinear',\n",
        "    max_iter=1000,\n",
        "    random_state=42\n",
        ")\n",
        "\n",
        "\n",
        "rf_model = RandomForestClassifier(\n",
        "    n_estimators=30,             # Fewer trees to reduce overfitting\n",
        "    max_depth=2,                 # Very shallow trees (cannot memorize)\n",
        "    min_samples_leaf=10,         # Prevent learning from noise\n",
        "    min_samples_split=10,\n",
        "    max_features='sqrt',         # O use sqrt(n_features) at each split\n",
        "    bootstrap=True,              # to Ensure sampling randomness\n",
        "    class_weight='balanced',     # helps Handle class imbalance\n",
        "    random_state=42\n",
        ")\n",
        "\n",
        "xgb_model = XGBClassifier(\n",
        "    n_estimators=50,            #Balanced number of boosting rounds to learn patters without over fittting\n",
        "    max_depth=2,                #shallow trees to avoid memorising noise : focus on simple and general rules\n",
        "    learning_rate=0.01,         #small learning rate to improve stabiility and require more boosting rounds for gradual learning\n",
        "    subsample=0.6,              #small to increase diversity\n",
        "    colsample_bytree=0.6,       #reduce overfitting\n",
        "    reg_lambda=10,             # L2 regularization\n",
        "    reg_alpha=5,               # L1 regularization\n",
        "    scale_pos_weight=10,       # Balance class distribution\n",
        "    eval_metric='logloss',\n",
        "    random_state=42\n",
        ")\n",
        "\n",
        "\n",
        "# Model dictionary\n",
        "models = {\n",
        "    \"Logistic Regression\": logistic_model,\n",
        "    \"Random Forest\": rf_model,\n",
        "    \"XGBoost\": xgb_model\n",
        "}"
      ],
      "metadata": {
        "id": "sL5MG4aADf_I"
      },
      "execution_count": null,
      "outputs": []
    },
    {
      "cell_type": "markdown",
      "source": [
        "Evaluate and Cross - Validation"
      ],
      "metadata": {
        "id": "gO-JKIUw7poF"
      }
    },
    {
      "cell_type": "code",
      "source": [
        "from sklearn.metrics import classification_report, confusion_matrix\n",
        "from sklearn.model_selection import StratifiedKFold, cross_val_score\n",
        "from sklearn.ensemble import RandomForestClassifier\n",
        "\n",
        "model = RandomForestClassifier()\n",
        "\n",
        "skf = StratifiedKFold(n_splits=5, shuffle=True, random_state=42)\n",
        "\n",
        "scores = cross_val_score(model, X, y, scoring='f1_macro', cv=skf)\n",
        "print(\"Stratified 5-Fold F1 Macro:\", scores.mean())\n",
        "\n",
        "for name, model in models.items():\n",
        "    print(f\"\\n {name} Evaluation\")\n",
        "\n",
        "    # Train  model\n",
        "    model.fit(X_train, y_train)\n",
        "    y_pred = model.predict(X_test)\n",
        "\n",
        "    # Confusion Matrix\n",
        "    print(\" Confusion Matrix:\")\n",
        "    print(confusion_matrix(y_test, y_pred))\n",
        "\n",
        "    # Classification Report\n",
        "    print(\"\\n Classification Report:\")\n",
        "    print(classification_report(y_test, y_pred, target_names=['Low', 'High']))\n",
        "\n",
        "    # Cross-validation F1 macro\n",
        "    scores = cross_val_score(model, X, y, cv=skf, scoring='f1_macro')\n",
        "    print(f\" Stratified 5-Fold F1 Macro Avg: {scores.mean():.4f}\")\n"
      ],
      "metadata": {
        "colab": {
          "base_uri": "https://localhost:8080/"
        },
        "id": "V7Ms2pN7DmVw",
        "outputId": "7bb2b507-6fa7-4b1e-e4b4-a2e371d47321"
      },
      "execution_count": null,
      "outputs": [
        {
          "output_type": "stream",
          "name": "stdout",
          "text": [
            "Stratified 5-Fold F1 Macro: 0.9791572776672851\n",
            "\n",
            " Logistic Regression Evaluation\n",
            " Confusion Matrix:\n",
            "[[128  14]\n",
            " [  1  13]]\n",
            "\n",
            " Classification Report:\n",
            "              precision    recall  f1-score   support\n",
            "\n",
            "         Low       0.99      0.90      0.94       142\n",
            "        High       0.48      0.93      0.63        14\n",
            "\n",
            "    accuracy                           0.90       156\n",
            "   macro avg       0.74      0.91      0.79       156\n",
            "weighted avg       0.95      0.90      0.92       156\n",
            "\n",
            " Stratified 5-Fold F1 Macro Avg: 0.7382\n",
            "\n",
            " Random Forest Evaluation\n",
            " Confusion Matrix:\n",
            "[[134   8]\n",
            " [  0  14]]\n",
            "\n",
            " Classification Report:\n",
            "              precision    recall  f1-score   support\n",
            "\n",
            "         Low       1.00      0.94      0.97       142\n",
            "        High       0.64      1.00      0.78        14\n",
            "\n",
            "    accuracy                           0.95       156\n",
            "   macro avg       0.82      0.97      0.87       156\n",
            "weighted avg       0.97      0.95      0.95       156\n",
            "\n",
            " Stratified 5-Fold F1 Macro Avg: 0.8391\n",
            "\n",
            " XGBoost Evaluation\n",
            " Confusion Matrix:\n",
            "[[136   6]\n",
            " [  0  14]]\n",
            "\n",
            " Classification Report:\n",
            "              precision    recall  f1-score   support\n",
            "\n",
            "         Low       1.00      0.96      0.98       142\n",
            "        High       0.70      1.00      0.82        14\n",
            "\n",
            "    accuracy                           0.96       156\n",
            "   macro avg       0.85      0.98      0.90       156\n",
            "weighted avg       0.97      0.96      0.96       156\n",
            "\n",
            " Stratified 5-Fold F1 Macro Avg: 0.8535\n"
          ]
        }
      ]
    },
    {
      "cell_type": "markdown",
      "source": [
        "Confusion Matrices"
      ],
      "metadata": {
        "id": "-v6ldrbW_03g"
      }
    },
    {
      "cell_type": "code",
      "source": [
        "import matplotlib.pyplot as plt\n",
        "import numpy as np\n",
        "from sklearn.metrics import ConfusionMatrixDisplay\n",
        "\n",
        "#  confusion matrices from evaluations\n",
        "cm_logistic = np.array([[128, 14],\n",
        "                        [1, 13]])\n",
        "\n",
        "cm_rf = np.array([[134, 8],\n",
        "                  [0, 14]])\n",
        "\n",
        "cm_xgb = np.array([[136, 6],\n",
        "                   [0, 14]])\n",
        "\n",
        "# Model titles\n",
        "model_titles = ['Logistic Regression', 'Random Forest', 'XGBoost']\n",
        "cms = [cm_logistic, cm_rf, cm_xgb]\n",
        "\n",
        "# Plot confusion matrices side-by-side\n",
        "fig, axes = plt.subplots(1, 3, figsize=(15, 4))\n",
        "\n",
        "for ax, cm, title in zip(axes, cms, model_titles):\n",
        "    disp = ConfusionMatrixDisplay(confusion_matrix=cm, display_labels=['Low', 'High'])\n",
        "    disp.plot(ax=ax, cmap='Blues', colorbar=False)\n",
        "    ax.set_title(title)\n",
        "    ax.set_xlabel('Predicted')\n",
        "    ax.set_ylabel('Actual')\n",
        "\n",
        "plt.tight_layout()\n",
        "plt.show()\n"
      ],
      "metadata": {
        "colab": {
          "base_uri": "https://localhost:8080/",
          "height": 247
        },
        "id": "yMCJTo2DbrB1",
        "outputId": "a59f4084-ac54-4651-f7c9-0e4eceb67a86"
      },
      "execution_count": null,
      "outputs": [
        {
          "output_type": "display_data",
          "data": {
            "text/plain": [
              "<Figure size 1500x400 with 3 Axes>"
            ],
            "image/png": "[encoded data removed]"
          },
          "metadata": {}
        }
      ]
    }
  ]
}