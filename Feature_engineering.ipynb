{
  "nbformat": 4,
  "nbformat_minor": 0,
  "metadata": {
    "colab": {
      "provenance": [],
      "include_colab_link": true
    },
    "kernelspec": {
      "name": "python3",
      "display_name": "Python 3"
    },
    "language_info": {
      "name": "python"
    }
  },
  "cells": [
    {
      "cell_type": "markdown",
      "metadata": {
        "id": "view-in-github",
        "colab_type": "text"
      },
      "source": [
        "<a href=\"https://colab.research.google.com/github/Asakeblessing/Data-Science-Project/blob/main/Feature_engineering.ipynb\" target=\"_parent\"><img src=\"https://colab.research.google.com/assets/colab-badge.svg\" alt=\"Open In Colab\"/></a>"
      ]
    },
    {
      "cell_type": "code",
      "execution_count": null,
      "metadata": {
        "colab": {
          "base_uri": "https://localhost:8080/"
        },
        "id": "aD4sDYR0SWJl",
        "outputId": "2ce554b8-9f57-465e-96da-2d1a088dfbed"
      },
      "outputs": [
        {
          "output_type": "stream",
          "name": "stdout",
          "text": [
            "Requirement already satisfied: pandas in /usr/local/lib/python3.12/dist-packages (2.2.2)\n",
            "Requirement already satisfied: numpy in /usr/local/lib/python3.12/dist-packages (2.0.2)\n",
            "Requirement already satisfied: scikit-learn in /usr/local/lib/python3.12/dist-packages (1.6.1)\n",
            "Requirement already satisfied: matplotlib in /usr/local/lib/python3.12/dist-packages (3.10.0)\n",
            "Requirement already satisfied: seaborn in /usr/local/lib/python3.12/dist-packages (0.13.2)\n",
            "Requirement already satisfied: python-dateutil>=2.8.2 in /usr/local/lib/python3.12/dist-packages (from pandas) (2.9.0.post0)\n",
            "Requirement already satisfied: pytz>=2020.1 in /usr/local/lib/python3.12/dist-packages (from pandas) (2025.2)\n",
            "Requirement already satisfied: tzdata>=2022.7 in /usr/local/lib/python3.12/dist-packages (from pandas) (2025.2)\n",
            "Requirement already satisfied: scipy>=1.6.0 in /usr/local/lib/python3.12/dist-packages (from scikit-learn) (1.16.1)\n",
            "Requirement already satisfied: joblib>=1.2.0 in /usr/local/lib/python3.12/dist-packages (from scikit-learn) (1.5.1)\n",
            "Requirement already satisfied: threadpoolctl>=3.1.0 in /usr/local/lib/python3.12/dist-packages (from scikit-learn) (3.6.0)\n",
            "Requirement already satisfied: contourpy>=1.0.1 in /usr/local/lib/python3.12/dist-packages (from matplotlib) (1.3.3)\n",
            "Requirement already satisfied: cycler>=0.10 in /usr/local/lib/python3.12/dist-packages (from matplotlib) (0.12.1)\n",
            "Requirement already satisfied: fonttools>=4.22.0 in /usr/local/lib/python3.12/dist-packages (from matplotlib) (4.59.1)\n",
            "Requirement already satisfied: kiwisolver>=1.3.1 in /usr/local/lib/python3.12/dist-packages (from matplotlib) (1.4.9)\n",
            "Requirement already satisfied: packaging>=20.0 in /usr/local/lib/python3.12/dist-packages (from matplotlib) (25.0)\n",
            "Requirement already satisfied: pillow>=8 in /usr/local/lib/python3.12/dist-packages (from matplotlib) (11.3.0)\n",
            "Requirement already satisfied: pyparsing>=2.3.1 in /usr/local/lib/python3.12/dist-packages (from matplotlib) (3.2.3)\n",
            "Requirement already satisfied: six>=1.5 in /usr/local/lib/python3.12/dist-packages (from python-dateutil>=2.8.2->pandas) (1.17.0)\n"
          ]
        }
      ],
      "source": [
        "#Install Packages\n",
        "\n",
        "!pip install pandas numpy scikit-learn matplotlib seaborn\n"
      ]
    },
    {
      "cell_type": "code",
      "source": [
        "# Libraries Import\n",
        "\n",
        "import pandas as pd\n",
        "import numpy as np\n",
        "from sklearn.preprocessing import MinMaxScaler\n",
        "import matplotlib.pyplot as plt\n",
        "import seaborn as sns\n",
        "\n"
      ],
      "metadata": {
        "id": "ZHRMPab3StWY"
      },
      "execution_count": null,
      "outputs": []
    },
    {
      "cell_type": "markdown",
      "source": [
        "KPI Engineering"
      ],
      "metadata": {
        "id": "TAHcaIxvVl4Q"
      }
    },
    {
      "cell_type": "code",
      "source": [
        "df['Cost_Savings'] = (df['Unit_Price'] - df['Negotiated_Price']) * df['Quantity']\n",
        "df['Delivery_Duration'] = (df['Delivery_Date'] - df['Order_Date']).dt.days\n",
        "df['Defect_Rate_Percent'] = (df['Defective_Units'] / df['Quantity']) * 100\n"
      ],
      "metadata": {
        "id": "9AHq3LpJWjLu"
      },
      "execution_count": null,
      "outputs": []
    },
    {
      "cell_type": "markdown",
      "source": [
        "Data Prep For Topsis"
      ],
      "metadata": {
        "id": "cH-SBasyWoy2"
      }
    },
    {
      "cell_type": "code",
      "source": [
        "topsis_df = df[['Supplier', 'Cost_Savings', 'Delivery_Duration', 'Defect_Rate_Percent']]\n",
        "topsis_grouped = topsis_df.groupby('Supplier').mean().reset_index()\n"
      ],
      "metadata": {
        "id": "_xTJvG0zWr3K"
      },
      "execution_count": null,
      "outputs": []
    },
    {
      "cell_type": "code",
      "source": [
        "#Normalize and Weight the KPIs"
      ],
      "metadata": {
        "id": "ACtnkFWbWzMq"
      },
      "execution_count": null,
      "outputs": []
    },
    {
      "cell_type": "code",
      "source": [
        "\n",
        "# Normalize the KPIs using Min-Max Scaling\n",
        "\n",
        "scaler = MinMaxScaler()\n",
        "normalized = scaler.fit_transform(topsis_grouped[['Cost_Savings', 'Delivery_Duration', 'Defect_Rate_Percent']])\n",
        "\n",
        "weights = np.array([0.4, 0.3, 0.3])  # Set weights for the KPIs\n",
        "impacts = np.array([1, -1, -1])      # +1 for beneficial, -1 for non-beneficial\n",
        "\n",
        "# Weighted normalized matrix\n",
        "weighted = normalized * weights\n",
        "\n"
      ],
      "metadata": {
        "id": "7Hztuv-3W7P8"
      },
      "execution_count": null,
      "outputs": []
    },
    {
      "cell_type": "markdown",
      "source": [
        "Ideal and Negative-Ideal Solutions"
      ],
      "metadata": {
        "id": "qqp4K9aRYKBI"
      }
    },
    {
      "cell_type": "code",
      "source": [
        "ideal = np.max(weighted, axis=0) * (impacts > 0) + np.min(weighted, axis=0) * (impacts < 0)\n",
        "negative_ideal = np.min(weighted, axis=0) * (impacts > 0) + np.max(weighted, axis=0) * (impacts < 0)\n",
        "\n"
      ],
      "metadata": {
        "id": "e-pv1RriXK_y"
      },
      "execution_count": null,
      "outputs": []
    },
    {
      "cell_type": "markdown",
      "source": [
        "Euclidean distances Calculation"
      ],
      "metadata": {
        "id": "8TnyZuSmYcWU"
      }
    },
    {
      "cell_type": "code",
      "source": [
        "dist_to_ideal = np.linalg.norm(weighted - ideal, axis=1)\n",
        "dist_to_negative_ideal = np.linalg.norm(weighted - negative_ideal, axis=1)\n"
      ],
      "metadata": {
        "id": "gPlwoeifYW6Y"
      },
      "execution_count": null,
      "outputs": []
    }
  ]
}